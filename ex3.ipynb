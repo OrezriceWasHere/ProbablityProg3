{
 "cells": [
  {
   "cell_type": "code",
   "execution_count": 1,
   "outputs": [],
   "source": [
    "# Jonathan Shaki, Or Shachar 204920367, 209493709\n",
    "\n",
    "from input_parser import build_input_cache\n",
    "from expectation_maximization import ExpectationMaximization, Expectation, Maximization"
   ],
   "metadata": {
    "collapsed": false
   }
  },
  {
   "cell_type": "code",
   "execution_count": 2,
   "outputs": [],
   "source": [
    "INPUT_FILE = \"develop.txt\"\n",
    "CLUSTERS_NUMBER = 9\n",
    "SMALLEST_ITEM_TO_CALC = -10\n",
    "SMOOTH_LAMBDA = 0.2\n",
    "VOCABULARY_COUNT = 300000"
   ],
   "metadata": {
    "collapsed": false
   }
  },
  {
   "cell_type": "code",
   "execution_count": 3,
   "metadata": {
    "collapsed": true
   },
   "outputs": [],
   "source": [
    "items = build_input_cache(INPUT_FILE)\n",
    "clusters = [[] for i in range(CLUSTERS_NUMBER)]\n",
    "for index, item in enumerate(items):\n",
    "    clusters[index % CLUSTERS_NUMBER].append(item.words)\n",
    "\n",
    "# TODO:\n",
    "# Delete all words that appear less than 3 items\n",
    "# As instructed by task"
   ]
  },
  {
   "cell_type": "code",
   "execution_count": 4,
   "outputs": [],
   "source": [
    "em = ExpectationMaximization(clusters, SMALLEST_ITEM_TO_CALC, SMOOTH_LAMBDA, VOCABULARY_COUNT)\n",
    "expectation = Expectation(em)\n",
    "# TODO:\n",
    "# maximization = Maximization(em)\n",
    "# while maximization(cluster) >  Threshold:\n",
    "#   expectation(cluster)"
   ],
   "metadata": {
    "collapsed": false
   }
  },
  {
   "cell_type": "code",
   "execution_count": 5,
   "outputs": [
    {
     "data": {
      "text/plain": "array([0.11111111, 0.11111111, 0.11111111, 0.11111111, 0.11111111,\n       0.11111111, 0.11111111, 0.11111111, 0.11111111])"
     },
     "execution_count": 5,
     "metadata": {},
     "output_type": "execute_result"
    }
   ],
   "source": [
    "expectation(clusters[0][8])\n"
   ],
   "metadata": {
    "collapsed": false
   }
  },
  {
   "cell_type": "code",
   "execution_count": 6,
   "outputs": [],
   "source": [
    "# TODO: graphs"
   ],
   "metadata": {
    "collapsed": false
   }
  }
 ],
 "metadata": {
  "kernelspec": {
   "display_name": "Python 3",
   "language": "python",
   "name": "python3"
  },
  "language_info": {
   "codemirror_mode": {
    "name": "ipython",
    "version": 2
   },
   "file_extension": ".py",
   "mimetype": "text/x-python",
   "name": "python",
   "nbconvert_exporter": "python",
   "pygments_lexer": "ipython2",
   "version": "2.7.6"
  }
 },
 "nbformat": 4,
 "nbformat_minor": 0
}
